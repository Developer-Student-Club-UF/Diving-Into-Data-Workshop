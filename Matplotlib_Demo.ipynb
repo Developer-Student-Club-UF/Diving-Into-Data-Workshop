{
 "cells": [
  {
   "cell_type": "markdown",
   "metadata": {},
   "source": [
    "## Matplotlib Demo"
   ]
  },
  {
   "cell_type": "code",
   "execution_count": null,
   "metadata": {},
   "outputs": [],
   "source": [
    "#matplotlib. pyplot is a collection of functions that make matplotlib work like MATLAB.\n",
    "import matplotlib.pyplot as plt\n",
    "\n",
    "#the %matplotlib inline will make your plot outputs appear and be stored within the notebook.\n",
    "%matplotlib inline"
   ]
  },
  {
   "cell_type": "markdown",
   "metadata": {},
   "source": [
    "#### Types of Graphs covered in this workshop:\n",
    "* Line Graph\n",
    "* Bar Graph\n",
    "* Histogram\n",
    "* Pie chart\n",
    "* Subplots\n",
    "* Scatter plots - sample"
   ]
  },
  {
   "cell_type": "markdown",
   "metadata": {},
   "source": [
    "#### Line Graph"
   ]
  },
  {
   "cell_type": "code",
   "execution_count": null,
   "metadata": {},
   "outputs": [],
   "source": [
    "x=[1,2,3,4,5,6,7]\n",
    "y=[50,51,52,48,47,49,46]"
   ]
  },
  {
   "cell_type": "code",
   "execution_count": null,
   "metadata": {},
   "outputs": [],
   "source": [
    "plt.plot(x,y)"
   ]
  },
  {
   "cell_type": "code",
   "execution_count": null,
   "metadata": {},
   "outputs": [],
   "source": [
    "# x axis label\n",
    "plt.xlabel('Day')\n",
    "\n",
    "# y axis label\n",
    "plt.ylabel('Temperature')\n",
    "\n",
    "#Title of the Graph\n",
    "plt.title('Weather')\n",
    "\n",
    "#plot the graph with the x,y values\n",
    "plt.plot(x,y,'g+-')"
   ]
  },
  {
   "cell_type": "code",
   "execution_count": null,
   "metadata": {},
   "outputs": [],
   "source": [
    "# Same effect as 'b+' format string\n",
    "plt.plot(x,y,color='blue',marker='+',linestyle='')"
   ]
  },
  {
   "cell_type": "code",
   "execution_count": null,
   "metadata": {},
   "outputs": [],
   "source": [
    "#try increasing/decreasing the markersize to see the change\n",
    "plt.plot(x,y,color='blue',marker='+',linestyle='',markersize=20)"
   ]
  },
  {
   "cell_type": "code",
   "execution_count": null,
   "metadata": {},
   "outputs": [],
   "source": [
    "# alpha can be specified on a scale 0 to 1\n",
    "plt.plot(x,y,'g<',alpha=0.5) "
   ]
  },
  {
   "cell_type": "markdown",
   "metadata": {},
   "source": [
    "#### Multiple Plots in the same graph"
   ]
  },
  {
   "cell_type": "code",
   "execution_count": null,
   "metadata": {},
   "outputs": [],
   "source": [
    "days=[1,2,3,4,5,6,7]\n",
    "max_t=[50,51,52,48,47,49,46]\n",
    "min_t=[43,42,40,44,33,35,37]\n",
    "avg_t=[45,48,48,46,40,42,41]"
   ]
  },
  {
   "cell_type": "code",
   "execution_count": null,
   "metadata": {},
   "outputs": [],
   "source": [
    "plt.plot(days, max_t, label=\"max\")\n",
    "plt.plot(days, min_t, label=\"min\")\n",
    "plt.plot(days, avg_t, label=\"average\")"
   ]
  },
  {
   "cell_type": "code",
   "execution_count": null,
   "metadata": {},
   "outputs": [],
   "source": [
    "# set axes labels and chart title\n",
    "plt.xlabel('Day')\n",
    "plt.ylabel('Temperature')\n",
    "plt.title('Weather')\n",
    "\n",
    "plt.plot(days, max_t, label=\"max\")\n",
    "plt.plot(days, min_t, label=\"min\")\n",
    "plt.plot(days, avg_t, label=\"average\")"
   ]
  },
  {
   "cell_type": "code",
   "execution_count": null,
   "metadata": {},
   "outputs": [],
   "source": [
    "# Show legend\n",
    "plt.plot(days, max_t, label=\"max\")\n",
    "plt.plot(days, min_t, label=\"min\")\n",
    "plt.plot(days, avg_t, label=\"average\")\n",
    "\n",
    "plt.legend(loc='best')"
   ]
  },
  {
   "cell_type": "code",
   "execution_count": null,
   "metadata": {},
   "outputs": [],
   "source": [
    "# Legend at different location with shadow enabled and fontsize set to large\n",
    "plt.plot(days, max_t, label=\"max\")\n",
    "plt.plot(days, min_t, label=\"min\")\n",
    "plt.plot(days, avg_t, label=\"average\")\n",
    "\n",
    "plt.legend(loc='upper right',shadow=True,fontsize='large')"
   ]
  },
  {
   "cell_type": "code",
   "execution_count": null,
   "metadata": {},
   "outputs": [],
   "source": [
    "plt.plot(days, max_t, label=\"max\")\n",
    "plt.plot(days, min_t, label=\"min\")\n",
    "plt.plot(days, avg_t, label=\"average\")\n",
    "\n",
    "plt.legend(loc='upper right', fontsize=\"large\",shadow=True)"
   ]
  },
  {
   "cell_type": "markdown",
   "metadata": {},
   "source": [
    "#### Subplots"
   ]
  },
  {
   "cell_type": "code",
   "execution_count": null,
   "metadata": {},
   "outputs": [],
   "source": [
    "#subplot method in pyplot to have multiple graphs \n",
    "fig, axs = plt.subplots(2)\n",
    "fig.suptitle('Vertically stacked subplots')\n",
    "days=[1,2,3,4,5,6,7]\n",
    "max_t=[50,51,52,48,47,49,46]\n",
    "min_t=[43,42,40,44,33,35,37]\n",
    "\n",
    "#set the x axis, y axis labels\n",
    "axs[1].set(xlabel='Days', ylabel='MAX Temperature')\n",
    "\n",
    "#Title of the Graph\n",
    "axs[0].plot(days, max_t)\n",
    "axs[1].plot(days, min_t)"
   ]
  },
  {
   "cell_type": "markdown",
   "metadata": {},
   "source": [
    "#### Bar Graph"
   ]
  },
  {
   "cell_type": "code",
   "execution_count": null,
   "metadata": {},
   "outputs": [],
   "source": [
    "import numpy as np\n",
    "company=['GOOGL','AMZN','MSFT','FB']\n",
    "revenue=[90,136,89,27]"
   ]
  },
  {
   "cell_type": "code",
   "execution_count": null,
   "metadata": {},
   "outputs": [],
   "source": [
    "xpos = np.arange(len(company))\n",
    "xpos"
   ]
  },
  {
   "cell_type": "code",
   "execution_count": null,
   "metadata": {},
   "outputs": [],
   "source": [
    "plt.bar(xpos,revenue, label=\"Revenue\")\n",
    "\n",
    "plt.xticks(xpos,company)\n",
    "plt.ylabel(\"Revenue(in Billion)\")\n",
    "plt.title('US Technology Stocks')\n",
    "#plt.legend()"
   ]
  },
  {
   "cell_type": "code",
   "execution_count": null,
   "metadata": {},
   "outputs": [],
   "source": [
    "profit=[40,2,34,12]"
   ]
  },
  {
   "cell_type": "code",
   "execution_count": null,
   "metadata": {
    "scrolled": true
   },
   "outputs": [],
   "source": [
    "plt.bar(xpos-0.2,revenue, width=0.4, label=\"Revenue\")\n",
    "plt.bar(xpos+0.2,profit, width=0.4,label=\"Profit\")\n",
    "\n",
    "plt.xticks(xpos,company)\n",
    "plt.ylabel(\"Revenue, Profit (in Bln)\")\n",
    "plt.title('US Technology Stocks')\n",
    "plt.legend()"
   ]
  },
  {
   "cell_type": "markdown",
   "metadata": {},
   "source": [
    "#### Plotting horizontal Bar Graphs"
   ]
  },
  {
   "cell_type": "code",
   "execution_count": null,
   "metadata": {},
   "outputs": [],
   "source": [
    "plt.barh(xpos,revenue, label=\"Revenue\")\n",
    "\n",
    "plt.yticks(xpos,company)\n",
    "plt.ylabel(\"Revenue(Bln)\")\n",
    "plt.title('US Technology Stocks')\n",
    "plt.legend()"
   ]
  },
  {
   "cell_type": "markdown",
   "metadata": {},
   "source": [
    "### Histograms"
   ]
  },
  {
   "cell_type": "markdown",
   "metadata": {},
   "source": [
    "#### In histograms, x axis contains a variable and y axis will be a frequency of that variable"
   ]
  },
  {
   "cell_type": "markdown",
   "metadata": {},
   "source": [
    "##### We have a sample data of blood sugar level of different patients, we will try to plot number of patients by blood range and try to figure out how many patients are normal, pre-diabetic and diabetic"
   ]
  },
  {
   "cell_type": "code",
   "execution_count": null,
   "metadata": {},
   "outputs": [],
   "source": [
    "blood_sugar = [113, 85, 90, 150, 149, 88, 93, 115, 135, 80, 77, 82, 129]\n",
    "plt.hist(blood_sugar, rwidth=0.8) # by default number of bins is set to 10"
   ]
  },
  {
   "cell_type": "code",
   "execution_count": null,
   "metadata": {},
   "outputs": [],
   "source": [
    "plt.hist(blood_sugar,rwidth=0.5,bins=4)"
   ]
  },
  {
   "cell_type": "markdown",
   "metadata": {},
   "source": [
    "### Pie Chart for showing Household Expenses"
   ]
  },
  {
   "cell_type": "code",
   "execution_count": null,
   "metadata": {},
   "outputs": [],
   "source": [
    "exp_vals = [1400,600,300,410,250]\n",
    "exp_labels = [\"Home Rent\",\"Food\",\"Phone/Internet Bill\",\"Car \",\"Other Utilities\"]\n",
    "\n",
    "# labels - A sequence of strings providing the labels for each wedge\n",
    "plt.pie(exp_vals,labels=exp_labels)"
   ]
  },
  {
   "cell_type": "code",
   "execution_count": null,
   "metadata": {},
   "outputs": [],
   "source": [
    "plt.pie(exp_vals,labels=exp_labels, shadow=True)\n",
    "\n",
    "# The pie chart will probably look best if the figure and axes are square, or the Axes aspect is equal.\n",
    "plt.axis(\"equal\")\n",
    "plt.show()"
   ]
  },
  {
   "cell_type": "code",
   "execution_count": null,
   "metadata": {},
   "outputs": [],
   "source": [
    "plt.axis(\"equal\")\n",
    "\n",
    "# shadow - default: False. If set to True, draws a shadow beneath the pie\n",
    "# autopct - used to display the percentage value of each wedge \n",
    "plt.pie(exp_vals,labels=exp_labels, shadow=True, autopct='%1.1f%%',radius=1)\n",
    "plt.show()"
   ]
  },
  {
   "cell_type": "code",
   "execution_count": null,
   "metadata": {},
   "outputs": [],
   "source": [
    "plt.axis(\"equal\")\n",
    "\n",
    "#counterclock - Specify Fraction direction\n",
    "#startangle - The angle by which the start of the pie is rotated, counterclockwise from the x-axis.\n",
    "plt.pie(exp_vals,labels=exp_labels, shadow=True, autopct='%1.1f%%',radius=1.5,explode=[0,0,0,0.1,0.5],counterclock=True, startangle=45)\n",
    "plt.show()"
   ]
  },
  {
   "cell_type": "markdown",
   "metadata": {},
   "source": [
    "#### Save the chart to PDF"
   ]
  },
  {
   "cell_type": "code",
   "execution_count": null,
   "metadata": {},
   "outputs": [],
   "source": [
    "# explode - array, fraction of the radius with which to offset each wedge\n",
    "plt.pie(exp_vals,labels=exp_labels,radius=2, autopct='%0.1f%%', explode=[0,0.1,0.1,0,0])\n",
    "\n",
    "# bbox_inches - Bounding box in inches: only the given portion of the figure is saved.\n",
    "# pad_inches - Amount of padding around the figure when bbox_inches is 'tight'\n",
    "plt.savefig(\"piechart.pdf\", bbox_inches=\"tight\", pad_inches=1)"
   ]
  },
  {
   "cell_type": "markdown",
   "metadata": {},
   "source": [
    "#### Scatter Plot example"
   ]
  },
  {
   "cell_type": "code",
   "execution_count": null,
   "metadata": {},
   "outputs": [],
   "source": [
    "import numpy as np\n",
    "import matplotlib.pyplot as plt\n",
    "\n",
    "N = 50\n",
    "x = np.random.rand(N)\n",
    "y = np.random.rand(N)\n",
    "colors = np.random.rand(N)\n",
    "area = np.pi * (15 * np.random.rand(N)) ** 2\n",
    "\n",
    "plt.scatter(x, y, s=area, c=colors, alpha=0.5)\n",
    "plt.show()\n"
   ]
  }
 ],
 "metadata": {
  "kernelspec": {
   "display_name": "Python 3",
   "language": "python",
   "name": "python3"
  },
  "language_info": {
   "codemirror_mode": {
    "name": "ipython",
    "version": 3
   },
   "file_extension": ".py",
   "mimetype": "text/x-python",
   "name": "python",
   "nbconvert_exporter": "python",
   "pygments_lexer": "ipython3",
   "version": "3.8.3"
  }
 },
 "nbformat": 4,
 "nbformat_minor": 4
}
