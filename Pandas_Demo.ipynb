{
 "cells": [
  {
   "cell_type": "markdown",
   "metadata": {},
   "source": [
    "\n"
   ]
  },
  {
   "cell_type": "markdown",
   "metadata": {},
   "source": [
    "### Without Pandas"
   ]
  },
  {
   "cell_type": "code",
   "execution_count": null,
   "metadata": {},
   "outputs": [],
   "source": [
    "# This program shows that without using pandas getting answers on below questions is hard and not convinient\n",
    "# (1) Max temperature in New York in month of January\n",
    "# (2) List of days when it rained\n",
    "# (3) Average speed of wind in month of january\n",
    "__parsed_rows = []\n",
    "\n",
    "def parse_csv():\n",
    "    import csv\n",
    "    __file_path = \"nyc_weather.csv\"\n",
    "    __index = {\n",
    "        'date': 0,\n",
    "        'temperature': 1,\n",
    "        'DewPoint': 2,\n",
    "        'Humidity': 3,\n",
    "        'Sea_Level_PressureIn': 4,\n",
    "        'VisibilityMiles': 5,\n",
    "        'WindSpeedMPH': 6,\n",
    "        'PrecipitationIn': 7,\n",
    "        'CloudCover': 8,\n",
    "        'Events' : 9,\n",
    "        'WindDirDegrees': 10\n",
    "    }\n",
    "\n",
    "    global __parsed_rows\n",
    "    with open(__file_path, \"r\") as f:\n",
    "        reader = csv.reader(f)\n",
    "        next(reader, None)\n",
    "        for row in reader:\n",
    "            __parsed_rows.append({\n",
    "                'date':  row[__index['date']],\n",
    "                'temperature': row[__index['temperature']],\n",
    "                'DewPoint': row[__index['DewPoint']],\n",
    "                'Humidity': row[__index['Humidity']],\n",
    "                'Sea_Level_PressureIn': row[__index['Sea_Level_PressureIn']],\n",
    "                'VisibilityMiles': row[__index['VisibilityMiles']],\n",
    "                'WindSpeedMPH': row[__index['WindSpeedMPH']],\n",
    "                'PrecipitationIn': row[__index['PrecipitationIn']],\n",
    "                'CloudCover': row[__index['CloudCover']],\n",
    "                'Events': row[__index['Events']],\n",
    "                'WindDirDegrees': row[__index['WindDirDegrees']]\n",
    "            })\n",
    "\n",
    "\n",
    "def get_days_for_event(event_name):\n",
    "    days = []\n",
    "    for row in __parsed_rows:\n",
    "        if row['Events'] == event_name:\n",
    "            days.append(row['date'])\n",
    "    return days\n",
    "\n",
    "def get_max_temperature():\n",
    "    max_temp = 0\n",
    "    for row in __parsed_rows:\n",
    "        if int(row['temperature']) > max_temp:\n",
    "            max_temp = int(row['temperature'])\n",
    "    return max_temp\n",
    "\n",
    "def get_average_wind_speed():\n",
    "    total = 0\n",
    "    count = 0\n",
    "    for row in __parsed_rows:\n",
    "        speed = 0 if row['WindSpeedMPH']=='' else int(row['WindSpeedMPH'])\n",
    "        total += speed\n",
    "        count+=1\n",
    "    return total/count\n",
    "\n",
    "if __name__==\"__main__\":\n",
    "    parse_csv()\n",
    "\n",
    "    print(\"Max temperature is: \",get_max_temperature())\n",
    "    print (\"Days of rain: \", get_days_for_event('Rain'))\n",
    "    print(\"Average wind speed is: \", get_average_wind_speed())"
   ]
  },
  {
   "cell_type": "markdown",
   "metadata": {},
   "source": [
    "### With Pandas"
   ]
  },
  {
   "cell_type": "markdown",
   "metadata": {},
   "source": [
    "#### Import modules"
   ]
  },
  {
   "cell_type": "code",
   "execution_count": null,
   "metadata": {},
   "outputs": [],
   "source": [
    "#import pandas module\n",
    "import pandas as pd\n",
    "\n",
    "#create data frame\n",
    "df = pd.read_csv(\"nyc_weather.csv\") \n",
    "\n",
    "#display data frame\n",
    "df"
   ]
  },
  {
   "cell_type": "markdown",
   "metadata": {},
   "source": [
    "#### output of same use case with pandas"
   ]
  },
  {
   "cell_type": "code",
   "execution_count": null,
   "metadata": {},
   "outputs": [],
   "source": [
    "#display the maximum of the 'Temperature' Column\n",
    "#df['Temperature'].max()\n",
    "\n",
    "print(\"Maximum temperature is\",df['Temperature'].max())\n"
   ]
  },
  {
   "cell_type": "code",
   "execution_count": null,
   "metadata": {},
   "outputs": [],
   "source": [
    "#Display the dates where the events is set to 'Rain'\n",
    "print(\"Days of Rain:\")\n",
    "df['EST'][df['Events']=='Rain'] "
   ]
  },
  {
   "cell_type": "code",
   "execution_count": null,
   "metadata": {},
   "outputs": [],
   "source": [
    "#Display the mean of 'WindSpeedMPH' Column\n",
    "df['WindSpeedMPH'].mean() \n",
    "\n",
    "#alternate way\n",
    "#df.WindSpeedMPH.mean() "
   ]
  },
  {
   "cell_type": "code",
   "execution_count": null,
   "metadata": {},
   "outputs": [],
   "source": [
    "#fill the empty cells with 0's\n",
    "df.fillna(0, inplace=True)\n",
    "df"
   ]
  },
  {
   "cell_type": "code",
   "execution_count": null,
   "metadata": {},
   "outputs": [],
   "source": [
    "#displaying the correct value\n",
    "df['WindSpeedMPH'].mean()"
   ]
  },
  {
   "cell_type": "markdown",
   "metadata": {},
   "source": [
    "#### Some useful Functions"
   ]
  },
  {
   "cell_type": "code",
   "execution_count": null,
   "metadata": {},
   "outputs": [],
   "source": [
    "#Returns the first five rows\n",
    "df.head()"
   ]
  },
  {
   "cell_type": "code",
   "execution_count": null,
   "metadata": {},
   "outputs": [],
   "source": [
    "#Returns first 10 rows\n",
    "df.head(10)"
   ]
  },
  {
   "cell_type": "code",
   "execution_count": null,
   "metadata": {},
   "outputs": [],
   "source": [
    "#Returns the last five rows\n",
    "df.tail()"
   ]
  },
  {
   "cell_type": "code",
   "execution_count": null,
   "metadata": {},
   "outputs": [],
   "source": [
    "#Return a tuple representing the rows and columns of the DataFrame\n",
    "df.shape"
   ]
  },
  {
   "cell_type": "code",
   "execution_count": null,
   "metadata": {},
   "outputs": [],
   "source": [
    "#Drop column Humidity. 0 for rows, 1 for columns\n",
    "df.drop('Humidity',1).head()"
   ]
  },
  {
   "cell_type": "code",
   "execution_count": null,
   "metadata": {},
   "outputs": [],
   "source": [
    "# Provided the mean value of all the items in the column.\n",
    "df['WindSpeedMPH'].mean() \n",
    "\n",
    "#df.WindSpeedMPH.mean() # alternate way"
   ]
  },
  {
   "cell_type": "code",
   "execution_count": null,
   "metadata": {},
   "outputs": [],
   "source": [
    "#Miniumum value of 'Temperature Column\n",
    "df['Temperature'].min()"
   ]
  },
  {
   "cell_type": "code",
   "execution_count": null,
   "metadata": {},
   "outputs": [],
   "source": [
    "#Sum of all the values of Temperature Column\n",
    "df['Temperature'].sum()"
   ]
  },
  {
   "cell_type": "code",
   "execution_count": null,
   "metadata": {},
   "outputs": [],
   "source": [
    "#Returns some stats like count, min, percentiles on the data Frame\n",
    "df.describe()"
   ]
  },
  {
   "cell_type": "code",
   "execution_count": null,
   "metadata": {},
   "outputs": [],
   "source": [
    "#convert the data file to csv file\n",
    "df.to_csv('new_file.csv')"
   ]
  },
  {
   "cell_type": "code",
   "execution_count": null,
   "metadata": {},
   "outputs": [],
   "source": [
    "#Remove the index from the csv file\n",
    "df.to_csv('new_file.csv', index=False)"
   ]
  },
  {
   "cell_type": "code",
   "execution_count": null,
   "metadata": {},
   "outputs": [],
   "source": [
    "#Header = False will not include the column names in the csv file\n",
    "df.to_csv('new_file.csv',header=False)"
   ]
  },
  {
   "cell_type": "markdown",
   "metadata": {},
   "source": [
    "#### Some additional resources\n",
    "https://pandas.pydata.org/pandas-docs/stable/reference/frame.html\n",
    "\n",
    "https://www.dataquest.io/blog/pandas-cheat-sheet/"
   ]
  }
 ],
 "metadata": {
  "kernelspec": {
   "display_name": "Python 3",
   "language": "python",
   "name": "python3"
  },
  "language_info": {
   "codemirror_mode": {
    "name": "ipython",
    "version": 3
   },
   "file_extension": ".py",
   "mimetype": "text/x-python",
   "name": "python",
   "nbconvert_exporter": "python",
   "pygments_lexer": "ipython3",
   "version": "3.8.3"
  }
 },
 "nbformat": 4,
 "nbformat_minor": 4
}
